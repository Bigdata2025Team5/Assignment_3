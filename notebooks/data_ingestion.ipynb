{
 "cells": [
  {
   "cell_type": "code",
   "execution_count": null,
   "metadata": {},
   "outputs": [],
   "source": [
    "from snowflake.snowpark import Session\n",
    "\n",
    "# Assuming the session is already created and authenticated\n",
    "# If not, create the session using your credentials\n",
    "\n",
    "# Set the role to ACCOUNTADMIN\n",
    "session.sql(\"USE ROLE ACCOUNTADMIN;\").collect()\n",
    "\n",
    "# Create the table RAW_CO2.Daily_Measurements\n",
    "create_table_query = \"\"\"\n",
    "CREATE OR REPLACE TABLE RAW_CO2.Daily_Measurements (\n",
    "    date STRING,\n",
    "    co2_ppm FLOAT\n",
    ");\n",
    "\"\"\"\n",
    "session.sql(create_table_query).collect()\n",
    "\n",
    "# Grant privileges on the table to the ACCOUNTADMIN role\n",
    "grant_privileges_query = \"\"\"\n",
    "GRANT ALL PRIVILEGES ON TABLE RAW_CO2.Daily_Measurements TO ROLE ACCOUNTADMIN;\n",
    "\"\"\"\n",
    "session.sql(grant_privileges_query).collect()\n",
    "\n",
    "# Copy data from the stage into the table\n",
    "copy_into_table_query = \"\"\"\n",
    "COPY INTO RAW_CO2.Daily_Measurements\n",
    "    FROM @RAW_CO2.CO2_EXTERNAL_STAGE\n",
    "    FILE_FORMAT = (\n",
    "        TYPE = 'CSV' \n",
    "        SKIP_HEADER = 1\n",
    "        FIELD_OPTIONALLY_ENCLOSED_BY = '\"'\n",
    "    )\n",
    "    ON_ERROR = 'CONTINUE';\n",
    "\"\"\"\n",
    "session.sql(copy_into_table_query).collect()\n",
    "\n",
    "# Create a stream on the table RAW_CO2.DAILY_MEASUREMENTS_STREAM\n",
    "create_stream_query = \"\"\"\n",
    "CREATE OR REPLACE STREAM RAW_CO2.DAILY_MEASUREMENTS_STREAM \n",
    "ON TABLE RAW_CO2.Daily_Measurements;\n",
    "\"\"\"\n",
    "session.sql(create_stream_query).collect()\n",
    "\n",
    "print(\"Operations completed successfully.\")\n"
   ]
  }
 ],
 "metadata": {
  "kernelspec": {
   "display_name": "Python 3",
   "language": "python",
   "name": "python3"
  },
  "language_info": {
   "codemirror_mode": {
    "name": "ipython",
    "version": 3
   },
   "file_extension": ".py",
   "mimetype": "text/x-python",
   "name": "python",
   "nbconvert_exporter": "python",
   "pygments_lexer": "ipython3",
   "version": "3.12.1"
  },
  "orig_nbformat": 4
 },
 "nbformat": 4,
 "nbformat_minor": 2
}
