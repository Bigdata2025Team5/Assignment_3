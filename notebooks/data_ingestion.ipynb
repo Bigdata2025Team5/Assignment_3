{
 "cells": [
  {
   "cell_type": "code",
   "execution_count": null,
   "metadata": {
    "vscode": {
     "languageId": "sql"
    }
   },
   "outputs": [],
   "source": [
    "-- Set role to ACCOUNTADMIN\n",
    "USE ROLE ACCOUNTADMIN;\n",
    " \n",
    "-- Create the table\n",
    "CREATE OR REPLACE TABLE RAW_CO2.Daily_Measurements (\n",
    "    date STRING,\n",
    "    co2_ppm FLOAT\n",
    ");\n",
    " \n",
    "-- Grant privileges on the table to ACCOUNTADMIN role\n",
    "GRANT ALL PRIVILEGES ON TABLE RAW_CO2.Daily_Measurements TO ROLE ACCOUNTADMIN;\n",
    " \n",
    "-- Copy data from the stage into the table\n",
    "COPY INTO RAW_CO2.Daily_Measurements\n",
    "    FROM @RAW_CO2.CO2_EXTERNAL_STAGE\n",
    "    FILE_FORMAT = (\n",
    "        TYPE = 'CSV' \n",
    "        SKIP_HEADER = 1\n",
    "        FIELD_OPTIONALLY_ENCLOSED_BY = '\"'\n",
    "    )\n",
    "    ON_ERROR = 'CONTINUE';\n",
    " \n",
    "-- Create a stream on the table\n",
    "CREATE OR REPLACE STREAM RAW_CO2.DAILY_MEASUREMENTS_STREAM \n",
    "ON TABLE RAW_CO2.Daily_Measurements;"
   ]
  }
 ],
 "metadata": {
  "kernelspec": {
   "display_name": "Python 3",
   "language": "python",
   "name": "python3"
  },
  "language_info": {
   "codemirror_mode": {
    "name": "ipython",
    "version": 3
   },
   "file_extension": ".py",
   "mimetype": "text/x-python",
   "name": "python",
   "nbconvert_exporter": "python",
   "pygments_lexer": "ipython3",
   "version": "3.12.1"
  },
  "orig_nbformat": 4
 },
 "nbformat": 4,
 "nbformat_minor": 2
}
