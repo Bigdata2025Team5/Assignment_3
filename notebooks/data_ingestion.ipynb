{
 "cells": [
  {
   "cell_type": "code",
   "execution_count": 18,
   "metadata": {},
   "outputs": [
    {
     "ename": "SyntaxError",
     "evalue": "invalid syntax (1166821928.py, line 1)",
     "output_type": "error",
     "traceback": [
      "\u001b[0;36m  Cell \u001b[0;32mIn[18], line 1\u001b[0;36m\u001b[0m\n\u001b[0;31m    -- ----------------------------------------------------------------------------\u001b[0m\n\u001b[0m                                                                                   ^\u001b[0m\n\u001b[0;31mSyntaxError\u001b[0m\u001b[0;31m:\u001b[0m invalid syntax\n"
     ]
    }
   ],
   "source": [
    "##data inges\n",
    "\n",
    "from snowflake.snowpark import Session\n",
    "\n",
    "# Assuming `session` is already created and connected via your GitHub setup\n",
    "# If you're using Snowpark, the session object should already be available.\n",
    "# If not, you'd create it using the following:\n",
    "# session = Session.builder.configs(connection_options).create()\n",
    "\n",
    "# Create a stage (if not already created)\n",
    "\n",
    "\n",
    "# Create the table\n",
    "create_table_query = \"\"\"\n",
    "CREATE OR REPLACE TABLE RAW_CO2.Daily_Measurements (\n",
    "    date STRING,\n",
    "    co2_ppm FLOAT\n",
    ");\n",
    "\"\"\"\n",
    "session.sql(create_table_query).collect()\n",
    "\n",
    "# Copy data from the stage into the table\n",
    "copy_query = \"\"\"\n",
    "COPY INTO RAW_CO2.Daily_Measurements\n",
    "    FROM @RAW_CO2.CO2_EXTERNAL_STAGE\n",
    "    FILE_FORMAT = (\n",
    "        TYPE = 'CSV' \n",
    "        SKIP_HEADER = 1\n",
    "        FIELD_OPTIONALLY_ENCLOSED_BY = '\"'\n",
    "    )\n",
    "    ON_ERROR = 'CONTINUE';\n",
    "\"\"\"\n",
    "session.sql(copy_query).collect()\n",
    "\n",
    "# Create a stream on the table\n",
    "create_stream_query = \"\"\"\n",
    "CREATE OR REPLACE STREAM RAW_CO2.DAILY_MEASUREMENTS_STREAM \n",
    "ON TABLE RAW_CO2.Daily_Measurements;\n",
    "\"\"\"\n",
    "session.sql(create_stream_query).collect()\n",
    "\n",
    "# Optionally, verify if the table and stream are created successfully\n",
    "print(\"Stage, table, and stream are created successfully.\")\n",
    "\n",
    "# Close session if needed (depends on whether you need it in the current script)\n",
    "session.close()\n"
   ]
  }
 ],
 "metadata": {
  "kernelspec": {
   "display_name": "Python 3",
   "language": "python",
   "name": "python3"
  },
  "language_info": {
   "codemirror_mode": {
    "name": "ipython",
    "version": 3
   },
   "file_extension": ".py",
   "mimetype": "text/x-python",
   "name": "python",
   "nbconvert_exporter": "python",
   "pygments_lexer": "ipython3",
   "version": "3.12.1"
  },
  "orig_nbformat": 4
 },
 "nbformat": 4,
 "nbformat_minor": 2
}
